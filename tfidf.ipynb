{
 "cells": [
  {
   "cell_type": "code",
   "execution_count": 4,
   "id": "994889fa",
   "metadata": {},
   "outputs": [],
   "source": [
    "import nltk\n",
    "\n",
    "paragraph =  \"\"\"\"\"A paragraph is a series of sentences that are organized and coherent, and are all related to a single topic.\n",
    "                Almost every piece of writing you do that is longer than a few sentences should be organized into paragraphs. \n",
    "                This is because paragraphs show a reader where the subdivisions of an essay begin and end, and thus help the \n",
    "                reader see the organization of the essay and grasp its main points.Paragraphs can contain many different \n",
    "                kinds of information. A paragraph could contain a series of brief examples or a single long illustration of \n",
    "                a general point. It might describe a place, character, or process; narrate a series of events; \n",
    "                compare or contrast two or more things; classify items into categories; or describe causes and effects. \n",
    "                Regardless of the kind of information they contain, all paragraphs share certain characteristics. \n",
    "                One of the most important of these is a topic sentence.\"\"\"\n",
    "               \n",
    "               \n",
    "# Cleaning the texts\n",
    "import re\n",
    "from nltk.corpus import stopwords\n",
    "from nltk.stem import WordNetLemmatizer\n",
    "from nltk.tokenize import word_tokenize\n",
    "\n",
    "\n",
    "wordnet=WordNetLemmatizer()\n",
    "sentences = nltk.sent_tokenize(paragraph)\n",
    "corpus = []\n",
    "for i in range(len(sentences)):\n",
    "    review = re.sub('[^a-zA-Z]', ' ', sentences[i])\n",
    "    review = review.lower()\n",
    "    review = word_tokenize(review)\n",
    "    review = [wordnet.lemmatize(word) for word in review if not word in set(stopwords.words('english'))]\n",
    "    review = ' '.join(review)\n",
    "    corpus.append(review)\n",
    "    \n",
    "# Creating the TF-IDF model\n",
    "from sklearn.feature_extraction.text import TfidfVectorizer\n",
    "cv = TfidfVectorizer()\n",
    "X = cv.fit_transform(corpus).toarray()"
   ]
  },
  {
   "cell_type": "code",
   "execution_count": 5,
   "id": "67640dae",
   "metadata": {},
   "outputs": [
    {
     "data": {
      "text/plain": [
       "array([[0.        , 0.        , 0.        , 0.        , 0.        ,\n",
       "        0.        , 0.        , 0.        , 0.        , 0.43172572,\n",
       "        0.        , 0.        , 0.        , 0.        , 0.        ,\n",
       "        0.        , 0.        , 0.        , 0.        , 0.        ,\n",
       "        0.        , 0.        , 0.        , 0.        , 0.        ,\n",
       "        0.        , 0.        , 0.        , 0.        , 0.        ,\n",
       "        0.        , 0.        , 0.        , 0.        , 0.        ,\n",
       "        0.        , 0.        , 0.        , 0.35836942, 0.23296601,\n",
       "        0.        , 0.        , 0.        , 0.        , 0.        ,\n",
       "        0.        , 0.43172572, 0.        , 0.3063223 , 0.3063223 ,\n",
       "        0.        , 0.        , 0.35836942, 0.        , 0.        ,\n",
       "        0.        , 0.35836942, 0.        , 0.        ],\n",
       "       [0.39272619, 0.        , 0.        , 0.        , 0.        ,\n",
       "        0.        , 0.        , 0.        , 0.        , 0.        ,\n",
       "        0.        , 0.        , 0.        , 0.        , 0.        ,\n",
       "        0.        , 0.        , 0.        , 0.        , 0.        ,\n",
       "        0.39272619, 0.        , 0.        , 0.        , 0.        ,\n",
       "        0.        , 0.        , 0.        , 0.        , 0.        ,\n",
       "        0.        , 0.39272619, 0.        , 0.        , 0.        ,\n",
       "        0.        , 0.        , 0.        , 0.32599647, 0.21192125,\n",
       "        0.39272619, 0.        , 0.        , 0.        , 0.        ,\n",
       "        0.        , 0.        , 0.        , 0.27865097, 0.        ,\n",
       "        0.        , 0.        , 0.        , 0.        , 0.        ,\n",
       "        0.        , 0.        , 0.        , 0.39272619],\n",
       "       [0.        , 0.2052592 , 0.        , 0.        , 0.        ,\n",
       "        0.        , 0.        , 0.        , 0.        , 0.        ,\n",
       "        0.        , 0.14563754, 0.        , 0.        , 0.        ,\n",
       "        0.2052592 , 0.        , 0.2052592 , 0.4105184 , 0.        ,\n",
       "        0.        , 0.        , 0.        , 0.2052592 , 0.2052592 ,\n",
       "        0.        , 0.        , 0.17038276, 0.        , 0.17038276,\n",
       "        0.        , 0.        , 0.2052592 , 0.2052592 , 0.        ,\n",
       "        0.        , 0.        , 0.2052592 , 0.        , 0.2215222 ,\n",
       "        0.        , 0.        , 0.17038276, 0.        , 0.4105184 ,\n",
       "        0.        , 0.        , 0.2052592 , 0.        , 0.        ,\n",
       "        0.        , 0.2052592 , 0.        , 0.2052592 , 0.        ,\n",
       "        0.2052592 , 0.        , 0.        , 0.        ],\n",
       "       [0.        , 0.        , 0.3394977 , 0.        , 0.        ,\n",
       "        0.        , 0.        , 0.        , 0.        , 0.        ,\n",
       "        0.        , 0.24088376, 0.        , 0.3394977 , 0.        ,\n",
       "        0.        , 0.        , 0.        , 0.        , 0.        ,\n",
       "        0.        , 0.3394977 , 0.3394977 , 0.        , 0.        ,\n",
       "        0.3394977 , 0.        , 0.        , 0.        , 0.        ,\n",
       "        0.3394977 , 0.        , 0.        , 0.        , 0.        ,\n",
       "        0.        , 0.        , 0.        , 0.        , 0.18319831,\n",
       "        0.        , 0.        , 0.28181224, 0.        , 0.        ,\n",
       "        0.        , 0.        , 0.        , 0.        , 0.24088376,\n",
       "        0.        , 0.        , 0.28181224, 0.        , 0.        ,\n",
       "        0.        , 0.        , 0.        , 0.        ],\n",
       "       [0.        , 0.        , 0.        , 0.22643548, 0.22643548,\n",
       "        0.        , 0.22643548, 0.        , 0.22643548, 0.        ,\n",
       "        0.22643548, 0.        , 0.22643548, 0.        , 0.45287096,\n",
       "        0.        , 0.22643548, 0.        , 0.        , 0.22643548,\n",
       "        0.        , 0.        , 0.        , 0.        , 0.        ,\n",
       "        0.        , 0.        , 0.        , 0.22643548, 0.        ,\n",
       "        0.        , 0.        , 0.        , 0.        , 0.22643548,\n",
       "        0.22643548, 0.        , 0.        , 0.        , 0.        ,\n",
       "        0.        , 0.22643548, 0.        , 0.22643548, 0.        ,\n",
       "        0.        , 0.        , 0.        , 0.        , 0.16066274,\n",
       "        0.        , 0.        , 0.        , 0.        , 0.22643548,\n",
       "        0.        , 0.        , 0.22643548, 0.        ],\n",
       "       [0.        , 0.        , 0.        , 0.        , 0.        ,\n",
       "        0.40249669, 0.        , 0.40249669, 0.        , 0.        ,\n",
       "        0.        , 0.28558343, 0.        , 0.        , 0.        ,\n",
       "        0.        , 0.        , 0.        , 0.        , 0.        ,\n",
       "        0.        , 0.        , 0.        , 0.        , 0.        ,\n",
       "        0.        , 0.        , 0.33410682, 0.        , 0.33410682,\n",
       "        0.        , 0.        , 0.        , 0.        , 0.        ,\n",
       "        0.        , 0.        , 0.        , 0.        , 0.21719356,\n",
       "        0.        , 0.        , 0.        , 0.        , 0.        ,\n",
       "        0.40249669, 0.        , 0.        , 0.        , 0.        ,\n",
       "        0.40249669, 0.        , 0.        , 0.        , 0.        ,\n",
       "        0.        , 0.        , 0.        , 0.        ],\n",
       "       [0.        , 0.        , 0.        , 0.        , 0.        ,\n",
       "        0.        , 0.        , 0.        , 0.        , 0.        ,\n",
       "        0.        , 0.        , 0.        , 0.        , 0.        ,\n",
       "        0.        , 0.        , 0.        , 0.        , 0.        ,\n",
       "        0.        , 0.        , 0.        , 0.        , 0.        ,\n",
       "        0.        , 0.55967542, 0.        , 0.        , 0.        ,\n",
       "        0.        , 0.        , 0.        , 0.        , 0.        ,\n",
       "        0.        , 0.55967542, 0.        , 0.        , 0.        ,\n",
       "        0.        , 0.        , 0.        , 0.        , 0.        ,\n",
       "        0.        , 0.        , 0.        , 0.39710644, 0.        ,\n",
       "        0.        , 0.        , 0.        , 0.        , 0.        ,\n",
       "        0.        , 0.46457866, 0.        , 0.        ]])"
      ]
     },
     "execution_count": 5,
     "metadata": {},
     "output_type": "execute_result"
    }
   ],
   "source": [
    "X"
   ]
  },
  {
   "cell_type": "code",
   "execution_count": 6,
   "id": "e94e930d",
   "metadata": {},
   "outputs": [
    {
     "data": {
      "text/plain": [
       "(7, 59)"
      ]
     },
     "execution_count": 6,
     "metadata": {},
     "output_type": "execute_result"
    }
   ],
   "source": [
    "X.shape"
   ]
  },
  {
   "cell_type": "code",
   "execution_count": null,
   "id": "0877913b",
   "metadata": {},
   "outputs": [],
   "source": []
  }
 ],
 "metadata": {
  "kernelspec": {
   "display_name": "Python 3 (ipykernel)",
   "language": "python",
   "name": "python3"
  },
  "language_info": {
   "codemirror_mode": {
    "name": "ipython",
    "version": 3
   },
   "file_extension": ".py",
   "mimetype": "text/x-python",
   "name": "python",
   "nbconvert_exporter": "python",
   "pygments_lexer": "ipython3",
   "version": "3.9.2"
  }
 },
 "nbformat": 4,
 "nbformat_minor": 5
}
